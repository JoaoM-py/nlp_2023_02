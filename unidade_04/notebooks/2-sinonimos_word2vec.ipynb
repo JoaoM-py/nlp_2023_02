{
 "cells": [
  {
   "cell_type": "code",
   "execution_count": 13,
   "metadata": {},
   "outputs": [
    {
     "name": "stderr",
     "output_type": "stream",
     "text": [
      "[nltk_data] Downloading package stopwords to\n",
      "[nltk_data]     /home/gabriel/nltk_data...\n",
      "[nltk_data]   Package stopwords is already up-to-date!\n",
      "[nltk_data] Downloading package punkt to /home/gabriel/nltk_data...\n",
      "[nltk_data]   Package punkt is already up-to-date!\n"
     ]
    }
   ],
   "source": [
    "import string\n",
    "import nltk\n",
    "nltk.download('stopwords')\n",
    "nltk.download('punkt')\n",
    "import numpy as np\n",
    "from gensim.models import Word2Vec\n",
    "from nltk.corpus import stopwords\n",
    "stop_words = set(stopwords.words('portuguese') + list(string.punctuation))\n",
    "stop_words.remove('não')"
   ]
  },
  {
   "cell_type": "code",
   "execution_count": 14,
   "metadata": {},
   "outputs": [],
   "source": [
    "# Carregando um modelo Word2Vec pré-treinado\n",
    "model = Word2Vec.load('./model_word2vec.model')"
   ]
  },
  {
   "cell_type": "code",
   "execution_count": 15,
   "metadata": {},
   "outputs": [
    {
     "name": "stdout",
     "output_type": "stream",
     "text": [
      "Frase Original: Produto veio quebrado\n",
      "Frase Reescrita: elogios veio quebrado\n"
     ]
    }
   ],
   "source": [
    "def rewrite_sentence(sentence, model):\n",
    "    tokens = preprocess_text(sentence)\n",
    "    rewritten_tokens = [find_synonym(token, model) for token in tokens]\n",
    "    rewritten_sentence = ' '.join(rewritten_tokens)\n",
    "    return rewritten_sentence\n",
    "\n",
    "def find_synonym(word, model):\n",
    "    try:\n",
    "        # sinônimos com base na similaridade de palavras\n",
    "        synonyms = model.wv.most_similar(word, topn=1)\n",
    "        return synonyms[0][0]\n",
    "    except KeyError:\n",
    "        return word\n",
    "\n",
    "def preprocess_text(text):\n",
    "    tokens = nltk.word_tokenize(text.lower())\n",
    "    tokens = [token for token in tokens if token.isalpha() and token not in stop_words]\n",
    "    return tokens\n",
    "\n",
    "\n",
    "\n",
    "\n",
    "user_input = input(\"Digite uma frase: \")\n",
    "rewritten_sentence = rewrite_sentence(user_input, model)\n",
    "print(\"Frase Original:\", user_input)\n",
    "print(\"Frase Reescrita:\", rewritten_sentence)"
   ]
  }
 ],
 "metadata": {
  "kernelspec": {
   "display_name": "venv",
   "language": "python",
   "name": "venv"
  },
  "language_info": {
   "codemirror_mode": {
    "name": "ipython",
    "version": 3
   },
   "file_extension": ".py",
   "mimetype": "text/x-python",
   "name": "python",
   "nbconvert_exporter": "python",
   "pygments_lexer": "ipython3",
   "version": "3.10.12"
  }
 },
 "nbformat": 4,
 "nbformat_minor": 2
}
